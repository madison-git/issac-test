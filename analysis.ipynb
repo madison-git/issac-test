{
 "cells": [
  {
   "cell_type": "code",
   "execution_count": null,
   "metadata": {},
   "outputs": [],
   "source": [
    "import os\n",
    "import pandas as pd\n",
    "import numpy as np"
   ]
  },
  {
   "cell_type": "code",
   "execution_count": null,
   "metadata": {},
   "outputs": [],
   "source": [
    "JOBID = int(os.environ['SLURM_JOB_ID'])\n",
    "JOBID"
   ]
  },
  {
   "cell_type": "code",
   "execution_count": null,
   "metadata": {},
   "outputs": [],
   "source": [
    "N = 50\n",
    "n = [1]\n",
    "x = [1]\n",
    "#print(1, x[0])\n",
    "for i in range(1, N):\n",
    "    n.append(i+1)\n",
    "    j = n[-1] * x[i-1]\n",
    "    x.append(j)\n",
    "    #print(n[-1], x[-1])\n",
    "\n",
    "df = pd.DataFrame({'n': n, 'nfact': x})\n",
    "os.system(\"mkdir -p output\")\n",
    "filename = 'output/factorials_%10.10d.csv' % JOBID\n",
    "df.to_csv(filename, index=False)\n",
    "df"
   ]
  }
 ],
 "metadata": {
  "kernelspec": {
   "display_name": "Python 3",
   "language": "python",
   "name": "python3"
  },
  "language_info": {
   "codemirror_mode": {
    "name": "ipython",
    "version": 3
   },
   "file_extension": ".py",
   "mimetype": "text/x-python",
   "name": "python",
   "nbconvert_exporter": "python",
   "pygments_lexer": "ipython3",
   "version": "3.8.3"
  }
 },
 "nbformat": 4,
 "nbformat_minor": 4
}
